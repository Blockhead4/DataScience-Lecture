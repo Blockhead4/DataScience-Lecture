{
 "cells": [
  {
   "cell_type": "code",
   "execution_count": 23,
   "metadata": {},
   "outputs": [],
   "source": [
    "import nltk\n",
    "# nltk.download()\n",
    "from nltk.tokenize import word_tokenize\n",
    "from nltk.tokenize import WordPunctTokenizer\n",
    "from nltk.tokenize import TreebankWordTokenizer\n",
    "\n",
    "from keras.preprocessing.text import text_to_word_sequence"
   ]
  },
  {
   "cell_type": "markdown",
   "metadata": {},
   "source": [
    "## 단어단위 토큰화"
   ]
  },
  {
   "cell_type": "code",
   "execution_count": 17,
   "metadata": {},
   "outputs": [
    {
     "name": "stdout",
     "output_type": "stream",
     "text": [
      "['I', 'do', \"n't\", 'think', 'so', ',', 'Lunchtime', 'double', 'so', '!']\n"
     ]
    }
   ],
   "source": [
    "print(word_tokenize(\"I don't think so, Lunchtime double so!\"))"
   ]
  },
  {
   "cell_type": "code",
   "execution_count": 18,
   "metadata": {},
   "outputs": [
    {
     "name": "stdout",
     "output_type": "stream",
     "text": [
      "['I', 'don', \"'\", 't', 'think', 'so', ',', 'Lunchtime', 'double', 'so', '!']\n"
     ]
    }
   ],
   "source": [
    "print(WordPunctTokenizer().tokenize(\"I don't think so, Lunchtime double so!\"))"
   ]
  },
  {
   "cell_type": "code",
   "execution_count": 19,
   "metadata": {},
   "outputs": [
    {
     "name": "stdout",
     "output_type": "stream",
     "text": [
      "['i', \"don't\", 'think', 'so', 'lunchtime', 'double', 'so']\n"
     ]
    }
   ],
   "source": [
    "print(text_to_word_sequence(\"I don't think so, Lunchtime double so!\"))"
   ]
  },
  {
   "cell_type": "code",
   "execution_count": 22,
   "metadata": {},
   "outputs": [
    {
     "name": "stdout",
     "output_type": "stream",
     "text": [
      "['I', 'do', \"n't\", 'think', 'so', ',', 'Lunchtime', 'double', 'so', '!']\n"
     ]
    }
   ],
   "source": [
    "print(TreebankWordTokenizer().tokenize(\"I don't think so, Lunchtime double so!\"))"
   ]
  },
  {
   "cell_type": "markdown",
   "metadata": {},
   "source": [
    "### 문장단위 토큰화"
   ]
  },
  {
   "cell_type": "code",
   "execution_count": 27,
   "metadata": {},
   "outputs": [],
   "source": [
    "from nltk.tokenize import sent_tokenize"
   ]
  },
  {
   "cell_type": "code",
   "execution_count": 28,
   "metadata": {},
   "outputs": [],
   "source": [
    "text = \"열심히 코딩한 당신, 이제 떠나라. 보라카이 발리 괌 하와이 몰디브 가고 싶다. 슈방\""
   ]
  },
  {
   "cell_type": "code",
   "execution_count": 29,
   "metadata": {},
   "outputs": [
    {
     "name": "stdout",
     "output_type": "stream",
     "text": [
      "['열심히 코딩한 당신, 이제 떠나라.', '보라카이 발리 괌 하와이 몰디브 가고 싶다.', '슈방']\n"
     ]
    }
   ],
   "source": [
    "print(sent_tokenize(text))"
   ]
  },
  {
   "cell_type": "markdown",
   "metadata": {},
   "source": [
    "## 한국어 토큰화"
   ]
  },
  {
   "cell_type": "code",
   "execution_count": 30,
   "metadata": {},
   "outputs": [
    {
     "data": {
      "text/plain": [
       "[('열심히', 'JJ'),\n",
       " ('코딩한', 'NNP'),\n",
       " ('당신', 'NNP'),\n",
       " (',', ','),\n",
       " ('이제', 'NNP'),\n",
       " ('떠나라', 'NNP'),\n",
       " ('.', '.'),\n",
       " ('보라카이', 'VB'),\n",
       " ('발리', 'JJ'),\n",
       " ('괌', 'NNP'),\n",
       " ('하와이', 'NNP'),\n",
       " ('몰디브', 'NNP'),\n",
       " ('가고', 'NNP'),\n",
       " ('싶다', 'NNP'),\n",
       " ('.', '.'),\n",
       " ('슈방', 'NN')]"
      ]
     },
     "execution_count": 30,
     "metadata": {},
     "output_type": "execute_result"
    }
   ],
   "source": [
    "from nltk.tag import pos_tag\n",
    "x = word_tokenize(text)\n",
    "pos_tag(x)"
   ]
  },
  {
   "cell_type": "code",
   "execution_count": 31,
   "metadata": {},
   "outputs": [],
   "source": [
    "from konlpy.tag import Okt"
   ]
  },
  {
   "cell_type": "code",
   "execution_count": 35,
   "metadata": {},
   "outputs": [],
   "source": [
    "okt = Okt()"
   ]
  },
  {
   "cell_type": "code",
   "execution_count": 37,
   "metadata": {},
   "outputs": [
    {
     "data": {
      "text/plain": [
       "['열심히',\n",
       " '코딩',\n",
       " '한',\n",
       " '당신',\n",
       " ',',\n",
       " '이제',\n",
       " '떠나라',\n",
       " '.',\n",
       " '보라카이',\n",
       " '발리',\n",
       " '괌',\n",
       " '하와이',\n",
       " '몰디브',\n",
       " '가고',\n",
       " '싶다',\n",
       " '.',\n",
       " '슈방']"
      ]
     },
     "execution_count": 37,
     "metadata": {},
     "output_type": "execute_result"
    }
   ],
   "source": [
    "okt.morphs(text)"
   ]
  },
  {
   "cell_type": "code",
   "execution_count": 38,
   "metadata": {},
   "outputs": [
    {
     "data": {
      "text/plain": [
       "[('열심히', 'Adverb'),\n",
       " ('코딩', 'Noun'),\n",
       " ('한', 'Josa'),\n",
       " ('당신', 'Noun'),\n",
       " (',', 'Punctuation'),\n",
       " ('이제', 'Noun'),\n",
       " ('떠나라', 'Verb'),\n",
       " ('.', 'Punctuation'),\n",
       " ('보라카이', 'Noun'),\n",
       " ('발리', 'Noun'),\n",
       " ('괌', 'Noun'),\n",
       " ('하와이', 'Noun'),\n",
       " ('몰디브', 'Noun'),\n",
       " ('가고', 'Verb'),\n",
       " ('싶다', 'Verb'),\n",
       " ('.', 'Punctuation'),\n",
       " ('슈방', 'Noun')]"
      ]
     },
     "execution_count": 38,
     "metadata": {},
     "output_type": "execute_result"
    }
   ],
   "source": [
    "okt.pos(text)"
   ]
  },
  {
   "cell_type": "code",
   "execution_count": 39,
   "metadata": {},
   "outputs": [
    {
     "data": {
      "text/plain": [
       "['열심히',\n",
       " '코딩',\n",
       " '하',\n",
       " 'ㄴ',\n",
       " '당신',\n",
       " ',',\n",
       " '이제',\n",
       " '떠나',\n",
       " '라',\n",
       " '.',\n",
       " '보라',\n",
       " '카이',\n",
       " '발리',\n",
       " '괌',\n",
       " '하와이',\n",
       " '몰디브',\n",
       " '가',\n",
       " '고',\n",
       " '싶',\n",
       " '다',\n",
       " '.',\n",
       " '슈',\n",
       " '방']"
      ]
     },
     "execution_count": 39,
     "metadata": {},
     "output_type": "execute_result"
    }
   ],
   "source": [
    "from konlpy.tag import Kkma\n",
    "kkma = Kkma()\n",
    "kkma.morphs(text)"
   ]
  },
  {
   "cell_type": "code",
   "execution_count": 44,
   "metadata": {},
   "outputs": [
    {
     "data": {
      "text/plain": [
       "['코딩', '당신', '보라', '보라카이', '카이', '발리', '괌', '하와이', '몰디브', '슈', '슈방', '방']"
      ]
     },
     "execution_count": 44,
     "metadata": {},
     "output_type": "execute_result"
    }
   ],
   "source": [
    "kkma.nouns(text)"
   ]
  },
  {
   "cell_type": "markdown",
   "metadata": {},
   "source": [
    "## 정제, 정규화"
   ]
  },
  {
   "cell_type": "code",
   "execution_count": 40,
   "metadata": {},
   "outputs": [],
   "source": [
    "import re"
   ]
  },
  {
   "cell_type": "code",
   "execution_count": 41,
   "metadata": {},
   "outputs": [
    {
     "data": {
      "text/plain": [
       "'I was wondering anyone out there could enlighten me on this car'"
      ]
     },
     "execution_count": 41,
     "metadata": {},
     "output_type": "execute_result"
    }
   ],
   "source": [
    "text = \"I was wondering anyone out there could enlighten me on this car\""
   ]
  },
  {
   "cell_type": "code",
   "execution_count": 42,
   "metadata": {},
   "outputs": [],
   "source": [
    "from nltk.stem import WordNetLemmatizer"
   ]
  },
  {
   "cell_type": "code",
   "execution_count": 43,
   "metadata": {},
   "outputs": [],
   "source": [
    "n = WordNetLemmatizer()"
   ]
  }
 ],
 "metadata": {
  "kernelspec": {
   "display_name": "movie-inside",
   "language": "python",
   "name": "movie-inside"
  },
  "language_info": {
   "codemirror_mode": {
    "name": "ipython",
    "version": 3
   },
   "file_extension": ".py",
   "mimetype": "text/x-python",
   "name": "python",
   "nbconvert_exporter": "python",
   "pygments_lexer": "ipython3",
   "version": "3.6.9"
  }
 },
 "nbformat": 4,
 "nbformat_minor": 2
}
